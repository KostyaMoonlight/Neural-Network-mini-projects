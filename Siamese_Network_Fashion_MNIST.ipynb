{
  "nbformat": 4,
  "nbformat_minor": 0,
  "metadata": {
    "colab": {
      "name": "Siamese Network - Fashion-MNIST.ipynb",
      "version": "0.3.2",
      "provenance": [],
      "collapsed_sections": []
    },
    "kernelspec": {
      "name": "python3",
      "display_name": "Python 3"
    },
    "accelerator": "GPU"
  },
  "cells": [
    {
      "metadata": {
        "id": "ngJZylb5IFCp",
        "colab_type": "code",
        "colab": {
          "base_uri": "https://localhost:8080/",
          "height": 34
        },
        "outputId": "6c674393-14d9-4b7c-ecd0-d5922168a0ff"
      },
      "cell_type": "code",
      "source": [
        "import numpy as np\n",
        "import keras\n",
        "from keras.datasets import fashion_mnist\n",
        "from keras.utils.np_utils import to_categorical\n",
        "import tensorflow as tf\n",
        "import threading\n",
        "import queue\n",
        "import matplotlib.pyplot as plt"
      ],
      "execution_count": 1,
      "outputs": [
        {
          "output_type": "stream",
          "text": [
            "Using TensorFlow backend.\n"
          ],
          "name": "stderr"
        }
      ]
    },
    {
      "metadata": {
        "id": "irLKWUe4IzMo",
        "colab_type": "code",
        "colab": {}
      },
      "cell_type": "code",
      "source": [
        "BATCH_SIZE=64\n",
        "EPOCHS = 25\n",
        "VAL_SPLIT = 0.85\n",
        "DROPOUT_RATE = 0.3"
      ],
      "execution_count": 0,
      "outputs": []
    },
    {
      "metadata": {
        "id": "7HJ6FcKoIVxu",
        "colab_type": "code",
        "colab": {
          "base_uri": "https://localhost:8080/",
          "height": 155
        },
        "outputId": "9bc691e6-eac0-46f7-c249-89479e2dcce3"
      },
      "cell_type": "code",
      "source": [
        "(x_train, y_train), (x_test, y_test) = fashion_mnist.load_data()\n",
        "#(y_train, y_test) = map(to_categorical, [y_train, y_test])\n",
        "x_train = x_train.reshape(-1, 28, 28, 1).astype('float32') / 255.\n",
        "x_test = x_test.reshape(-1, 28, 28, 1).astype('float32') / 255.\n",
        "split = int(len(x_train)*VAL_SPLIT)\n",
        "x_val = x_train[split:]\n",
        "y_val = y_train[split:]\n",
        "x_train = x_train[:split]\n",
        "y_train = y_train[:split]"
      ],
      "execution_count": 3,
      "outputs": [
        {
          "output_type": "stream",
          "text": [
            "Downloading data from http://fashion-mnist.s3-website.eu-central-1.amazonaws.com/train-labels-idx1-ubyte.gz\n",
            "32768/29515 [=================================] - 0s 3us/step\n",
            "Downloading data from http://fashion-mnist.s3-website.eu-central-1.amazonaws.com/train-images-idx3-ubyte.gz\n",
            "26427392/26421880 [==============================] - 2s 0us/step\n",
            "Downloading data from http://fashion-mnist.s3-website.eu-central-1.amazonaws.com/t10k-labels-idx1-ubyte.gz\n",
            "8192/5148 [===============================================] - 0s 0us/step\n",
            "Downloading data from http://fashion-mnist.s3-website.eu-central-1.amazonaws.com/t10k-images-idx3-ubyte.gz\n",
            "4423680/4422102 [==============================] - 1s 0us/step\n"
          ],
          "name": "stdout"
        }
      ]
    },
    {
      "metadata": {
        "id": "EKYokkOoJDO_",
        "colab_type": "code",
        "outputId": "0916d3a2-b101-427c-a8c2-3ac0bb2d7be3",
        "colab": {
          "base_uri": "https://localhost:8080/",
          "height": 69
        }
      },
      "cell_type": "code",
      "source": [
        "train_groups = [(x_train[np.where(y_train==i)[0]],i) for i in np.unique(y_train)]\n",
        "val_groups = [(x_val[np.where(y_val==i)[0]],i)  for i in np.unique(y_val)]\n",
        "test_groups = [(x_test[np.where(y_test==i)[0]],i)  for i in np.unique(y_train)]\n",
        "print('train groups:', [x[0].shape[0] for x in train_groups])\n",
        "print('val groups:', [x[0].shape[0] for x in val_groups])\n",
        "print('test groups:', [x[0].shape[0] for x in test_groups])"
      ],
      "execution_count": 4,
      "outputs": [
        {
          "output_type": "stream",
          "text": [
            "train groups: [5070, 5124, 5101, 5083, 5038, 5107, 5128, 5151, 5128, 5070]\n",
            "val groups: [930, 876, 899, 917, 962, 893, 872, 849, 872, 930]\n",
            "test groups: [1000, 1000, 1000, 1000, 1000, 1000, 1000, 1000, 1000, 1000]\n"
          ],
          "name": "stdout"
        }
      ]
    },
    {
      "metadata": {
        "id": "c8enHcLtJ1NI",
        "colab_type": "code",
        "colab": {}
      },
      "cell_type": "code",
      "source": [
        "class GroupLoader:\n",
        "  def __init__(self, group, shuffle=True):\n",
        "    self.x = np.asarray(group)\n",
        "    self.len = len(self.x)\n",
        "    self.index = 0\n",
        "    self.shuffle = shuffle\n",
        "  \n",
        "  def __len__(self):\n",
        "    return self.len\n",
        "  \n",
        "  def get(self, count):\n",
        "    if self.index + count > self.len:\n",
        "      self.index = 0\n",
        "      if self.shuffle:\n",
        "        np.random.shuffle(self.x)\n",
        "    batch_x = self.x[self.index:self.index+count]\n",
        "    self.index += count\n",
        "    return batch_x\n",
        "     "
      ],
      "execution_count": 0,
      "outputs": []
    },
    {
      "metadata": {
        "id": "uuisSbjdTmEY",
        "colab_type": "code",
        "colab": {}
      },
      "cell_type": "code",
      "source": [
        "class DatasetLoader:\n",
        "  def __init__(self, dataset, batch_size=BATCH_SIZE, shuffle=True):\n",
        "    self.data = {y:GroupLoader(x, shuffle) for x,y in dataset}\n",
        "    self.keys = np.asarray([int(x) for x in self.data.keys()])\n",
        "    self.batch_size = batch_size\n",
        "    self.out_shape = (self.batch_size, 28,28,1)\n",
        "    \n",
        "  def __len__(self):\n",
        "    return sum([len(x) for x in self.data.values()])//self.batch_size*3\n",
        "  \n",
        "  def get(self):\n",
        "    anchor_keys = np.random.choice(self.keys, self.batch_size)\n",
        "    negative_keys = np.random.choice(self.keys, self.batch_size)\n",
        "    negative_keys[anchor_keys==negative_keys] +=1\n",
        "    negative_keys[negative_keys==len(self.keys)] = 0\n",
        "    anchor = np.asarray([self.data[key].get(1) for key in anchor_keys]).reshape(self.out_shape)\n",
        "    positive = np.asarray([self.data[key].get(1) for key in anchor_keys]).reshape(self.out_shape)\n",
        "    negative = np.asarray([self.data[key].get(1) for key in negative_keys]).reshape(self.out_shape)\n",
        "    return anchor, positive, negative\n",
        "\n",
        "    \n",
        "  "
      ],
      "execution_count": 0,
      "outputs": []
    },
    {
      "metadata": {
        "id": "1EV26YSMY-wr",
        "colab_type": "code",
        "colab": {}
      },
      "cell_type": "code",
      "source": [
        "class BackgroundDatasetLoader(threading.Thread, DatasetLoader):\n",
        "  def __init__(self, dataset, batch_size=BATCH_SIZE, shuffle=True):\n",
        "    DatasetLoader.__init__(self, dataset, batch_size, shuffle)\n",
        "    threading.Thread.__init__(self)\n",
        "    self.queue = queue.Queue(1)\n",
        "    self.daemon = True\n",
        "    self.start()\n",
        "    \n",
        "  def run(self):\n",
        "    while True:\n",
        "      self.queue.put(self.get())\n",
        "    self.queue.put(None)\n",
        "\n",
        "  def next(self):\n",
        "    next_item = self.queue.get()\n",
        "    if next_item is None:\n",
        "      print('Queue is empty.')\n",
        "      next_item = self.get()\n",
        "      if next_item is None:\n",
        "        raise StopIteration\n",
        "    return next_item"
      ],
      "execution_count": 0,
      "outputs": []
    },
    {
      "metadata": {
        "id": "hKjNWE7wMAK0",
        "colab_type": "code",
        "outputId": "d409a80a-bd68-4621-c4b5-e44ab7073aba",
        "colab": {
          "base_uri": "https://localhost:8080/",
          "height": 34
        }
      },
      "cell_type": "code",
      "source": [
        "train_loader = DatasetLoader(train_groups, BATCH_SIZE)\n",
        "val_loader = DatasetLoader(val_groups, BATCH_SIZE)\n",
        "test_loader = DatasetLoader(test_groups, BATCH_SIZE)\n",
        "\n",
        "print(len(train_loader))"
      ],
      "execution_count": 8,
      "outputs": [
        {
          "output_type": "stream",
          "text": [
            "2388\n"
          ],
          "name": "stdout"
        }
      ]
    },
    {
      "metadata": {
        "id": "7b2drMnON-vb",
        "colab_type": "code",
        "colab": {}
      },
      "cell_type": "code",
      "source": [
        "class TrainTriplet:\n",
        "  def __init__(self, loaders):\n",
        "    self.train_loader, self.val_loader, self.test_loader = loaders\n",
        "    self.build()\n",
        "  \n",
        "  def _euclidean_distance(self, first_input, second_input, name):\n",
        "    return tf.reduce_sum(tf.square(first_input-second_input), axis=1, keepdims=True)#tf.sqrt(, name=name)\n",
        "\n",
        "  def _triplet_loss(self, positive_distance, negative_distance):\n",
        "\n",
        "    margin = 0.4\n",
        "    loss = tf.reduce_mean(tf.maximum(0.0, positive_distance -\n",
        "                                        negative_distance + margin), name='triplet_loss')  # , axis=0, keepdims=True\n",
        "    return loss\n",
        "  \n",
        "  def __conv_block(self, x, filters, filter_size=(3,3), pool_size=(2,2), pool_strides=(2,2), activation=tf.nn.relu, reuse=False, name='conv_block_1_'):\n",
        "    x = tf.layers.conv2d(x, filters, kernel_size=filter_size, activation=activation, padding='same', reuse=reuse, name=name+'conv1')\n",
        "    x = tf.layers.conv2d(x, filters, kernel_size=filter_size, activation=activation, padding='same', reuse=reuse, name=name+'conv2')\n",
        "    x = tf.layers.max_pooling2d(x, pool_size, pool_strides, padding='same', name=name+'mp')\n",
        "    x = tf.layers.batch_normalization(x, reuse=reuse, name=name+'bn')\n",
        "    x = tf.layers.dropout(x, self.dropout_rate, name=name+'dr')\n",
        "    return x\n",
        "    \n",
        "  def __fc_block(self, x, units, activation=tf.nn.relu, reuse=False, name='fc_block_1_'):\n",
        "    x = tf.layers.dense(x,units, activation=activation, reuse=reuse, name=name+'dense')\n",
        "    x = tf.layers.batch_normalization(x, reuse=reuse, name=name+'bn')\n",
        "    x = tf.layers.dropout(x, self.dropout_rate, name=name+'dr')\n",
        "    return x\n",
        "  \n",
        "  def _siamese_model(self, input_tensor, reuse):\n",
        "    with tf.name_scope('conv_blocks'):\n",
        "      x = self.__conv_block(input_tensor, 32, reuse=reuse, name='conv_block_1_') \n",
        "      x = self.__conv_block(x, 64, reuse=reuse, name='conv_block_2_') \n",
        "      x = self.__conv_block(x, 128, reuse=reuse, name='conv_block_3_') \n",
        "      \n",
        "    x = tf.layers.flatten(x)\n",
        "    \n",
        "    with tf.name_scope('fc_blocks'):\n",
        "      x = self.__fc_block(x, 512, reuse=reuse, name='fc_block_1_')\n",
        "    output = tf.layers.dense(x,128, activation=tf.nn.sigmoid, reuse=reuse, name='output')\n",
        "    return output\n",
        "  \n",
        "  def build(self):\n",
        "    tf.reset_default_graph()\n",
        "    with tf.name_scope('inputs'):\n",
        "      self.anchor = tf.placeholder(dtype=tf.float32, shape=[None, 28, 28, 1], name='anchor_ph')\n",
        "      self.positive = tf.placeholder(dtype=tf.float32, shape=[None, 28, 28, 1], name='positive_ph')\n",
        "      self.negative = tf.placeholder(dtype=tf.float32, shape=[None, 28, 28, 1], name='negative_ph')\n",
        "      self.lr = tf.placeholder_with_default(0.0002, [])    \n",
        "      self.dropout_rate = tf.placeholder_with_default(1., [])\n",
        "      \n",
        "    with tf.name_scope('siamese'):\n",
        "      self.anchor_output = self._siamese_model(self.anchor, False)\n",
        "      self.positive_output = self._siamese_model(self.positive, True)\n",
        "      self.negative_output = self._siamese_model(self.negative, True)\n",
        "      \n",
        "    with tf.name_scope('distances'):\n",
        "      self.positive_distance = self._euclidean_distance(self.anchor_output, self.positive_output, 'positive_distance')      \n",
        "      self.negative_distance = self._euclidean_distance(self.anchor_output, self.negative_output, 'negative_distance')\n",
        "\n",
        "    with tf.name_scope('train'):\n",
        "      self.loss = self._triplet_loss(self.positive_distance, self.negative_distance)\n",
        "      self.accuracy = tf.div( (tf.reduce_sum(tf.cast(self.positive_distance<0.5, tf.float32)) +tf.reduce_sum(tf.cast(self.negative_distance>0.5, tf.float32)) ) \n",
        "                             , tf.cast(tf.shape(self.positive_distance)[0], tf.float32)*2.)\n",
        "      self.train = tf.train.AdamOptimizer(learning_rate=self.lr).minimize(self.loss)\n",
        "\n",
        "  def _eval(self, loader):\n",
        "      total_loss=[]  \n",
        "      total_acc=[]\n",
        "      for step in range(len(loader)):\n",
        "        a, p, n = loader.get()\n",
        "        _loss, acc,  = self.sess.run([self.loss, self.accuracy], feed_dict={self.anchor: a, self.positive: p, self.negative:n})\n",
        "        total_loss.append(_loss)\n",
        "        total_acc.append(acc)\n",
        "      loss = sum(total_loss)/len(total_loss)\n",
        "      acc = sum(total_acc)/len(total_acc)\n",
        "      return (loss, acc)\n",
        "\n",
        "  def evaluate(self, data):\n",
        "    return self.sess.run(self.anchor_output, feed_dict={self.anchor:data})\n",
        "    \n",
        "  def train_model(self, epochs=EPOCHS, lr=0.0002, decay=1.):\n",
        "    self.sess = tf.Session()\n",
        "    self.sess.run(tf.global_variables_initializer())\n",
        "    self.sess.run(tf.local_variables_initializer())\n",
        "    for epoch in range(epochs):\n",
        "      total_train_loss=[]  \n",
        "      total_train_acc=[]\n",
        "      for step in range(len(self.train_loader)):\n",
        "        a, p, n = self.train_loader.get()\n",
        "        _, _loss, _acc,  = self.sess.run([self.train, self.loss, self.accuracy], feed_dict={self.anchor: a, self.positive: p, self.negative:n ,self.lr:lr, self.dropout_rate:DROPOUT_RATE})\n",
        "        total_train_loss.append(_loss)\n",
        "        total_train_acc.append(_acc)\n",
        "\n",
        "      lr *= decay\n",
        "      val_loss, val_acc = self._eval(self.val_loader)\n",
        "      print('epoch:',epoch+1,'  train loss:', sum(total_train_loss)/len(total_train_loss), ' train acc:',sum(total_train_acc)/len(total_train_acc) ,'  val loss:', val_loss, ' val acc:',val_acc, '  lr:', lr)\n",
        "      \n",
        "    test_loss, test_acc = self._eval(self.test_loader)\n",
        "    print('test loss:', test_loss, ' test acc:',test_acc )\n",
        "      "
      ],
      "execution_count": 0,
      "outputs": []
    },
    {
      "metadata": {
        "id": "_Le_-Qlxb8Ye",
        "colab_type": "code",
        "colab": {
          "base_uri": "https://localhost:8080/",
          "height": 501
        },
        "outputId": "a2d161e5-7c1c-415b-dc62-85c9c35bd397"
      },
      "cell_type": "code",
      "source": [
        "train = TrainTriplet((train_loader, val_loader, test_loader))"
      ],
      "execution_count": 10,
      "outputs": [
        {
          "output_type": "stream",
          "text": [
            "WARNING:tensorflow:From <ipython-input-9-73af3734460e>:17: conv2d (from tensorflow.python.layers.convolutional) is deprecated and will be removed in a future version.\n",
            "Instructions for updating:\n",
            "Use keras.layers.conv2d instead.\n",
            "WARNING:tensorflow:From /usr/local/lib/python3.6/dist-packages/tensorflow/python/framework/op_def_library.py:263: colocate_with (from tensorflow.python.framework.ops) is deprecated and will be removed in a future version.\n",
            "Instructions for updating:\n",
            "Colocations handled automatically by placer.\n",
            "WARNING:tensorflow:From <ipython-input-9-73af3734460e>:19: max_pooling2d (from tensorflow.python.layers.pooling) is deprecated and will be removed in a future version.\n",
            "Instructions for updating:\n",
            "Use keras.layers.max_pooling2d instead.\n",
            "WARNING:tensorflow:From <ipython-input-9-73af3734460e>:20: batch_normalization (from tensorflow.python.layers.normalization) is deprecated and will be removed in a future version.\n",
            "Instructions for updating:\n",
            "Use keras.layers.batch_normalization instead.\n",
            "WARNING:tensorflow:From <ipython-input-9-73af3734460e>:21: dropout (from tensorflow.python.layers.core) is deprecated and will be removed in a future version.\n",
            "Instructions for updating:\n",
            "Use keras.layers.dropout instead.\n",
            "WARNING:tensorflow:From <ipython-input-9-73af3734460e>:36: flatten (from tensorflow.python.layers.core) is deprecated and will be removed in a future version.\n",
            "Instructions for updating:\n",
            "Use keras.layers.flatten instead.\n",
            "WARNING:tensorflow:From <ipython-input-9-73af3734460e>:25: dense (from tensorflow.python.layers.core) is deprecated and will be removed in a future version.\n",
            "Instructions for updating:\n",
            "Use keras.layers.dense instead.\n",
            "WARNING:tensorflow:From <ipython-input-9-73af3734460e>:64: div (from tensorflow.python.ops.math_ops) is deprecated and will be removed in a future version.\n",
            "Instructions for updating:\n",
            "Deprecated in favor of operator or tf.math.divide.\n",
            "WARNING:tensorflow:From /usr/local/lib/python3.6/dist-packages/tensorflow/python/ops/math_ops.py:3066: to_int32 (from tensorflow.python.ops.math_ops) is deprecated and will be removed in a future version.\n",
            "Instructions for updating:\n",
            "Use tf.cast instead.\n"
          ],
          "name": "stdout"
        }
      ]
    },
    {
      "metadata": {
        "id": "dGVr9Sr4cH0D",
        "colab_type": "code",
        "outputId": "ad51a5cf-3a03-47ae-a4c2-abb5b120e561",
        "colab": {
          "base_uri": "https://localhost:8080/",
          "height": 69
        }
      },
      "cell_type": "code",
      "source": [
        "train.train_model(2, 0.0002, 0.95)"
      ],
      "execution_count": 11,
      "outputs": [
        {
          "output_type": "stream",
          "text": [
            "epoch: 1   train loss: 0.051010998531043454  train acc: 0.8691733406616415   val loss: 0.03286897436261088  val acc: 0.88359375   lr: 0.00019\n",
            "epoch: 2   train loss: 0.029907394339306316  train acc: 0.8897416771356784   val loss: 0.02667679379949169  val acc: 0.8862165178571428   lr: 0.0001805\n",
            "test loss: 0.030859909447220463  test acc: 0.8828792735042735\n"
          ],
          "name": "stdout"
        }
      ]
    },
    {
      "metadata": {
        "id": "-nROxJAmq0Bx",
        "colab_type": "code",
        "colab": {}
      },
      "cell_type": "code",
      "source": [
        "def euclidean_distance(first_input, second_input):\n",
        "  return np.sum(np.square(first_input-second_input), axis=1, keepdims=True)#tf.sqrt(, name=name)"
      ],
      "execution_count": 0,
      "outputs": []
    },
    {
      "metadata": {
        "id": "xi3D_8KriIjr",
        "colab_type": "code",
        "colab": {}
      },
      "cell_type": "code",
      "source": [
        "a, p, n = test_loader.get()\n",
        "a = a[:8]\n",
        "p = p[:4]\n",
        "n = n[4:8]\n",
        "pn = np.concatenate((p,n), axis=0)\n",
        "enc_a = train.evaluate(a)\n",
        "enc_pn = train.evaluate(pn) \n",
        "dist = euclidean_distance(enc_a, enc_pn).reshape(-1)\n"
      ],
      "execution_count": 0,
      "outputs": []
    },
    {
      "metadata": {
        "id": "8oUWP-egpY2Z",
        "colab_type": "code",
        "colab": {
          "base_uri": "https://localhost:8080/",
          "height": 254
        },
        "outputId": "deb46f40-0450-4302-a11f-a268aee4bd8f"
      },
      "cell_type": "code",
      "source": [
        "fig, m_axs = plt.subplots(2, a.shape[0], figsize = (12, 4))\n",
        "for c_a, c_b, c_d, (ax1, ax2) in zip(a, pn, dist, m_axs.T):\n",
        "    ax1.imshow(c_a[:,:,0])\n",
        "    ax1.set_title('Image A')\n",
        "    ax1.axis('off')\n",
        "    ax2.imshow(c_b[:,:,0])\n",
        "    ax2.set_title('Image B\\n%3.0f%%' % (c_d*100))\n",
        "    ax2.axis('off')"
      ],
      "execution_count": 29,
      "outputs": [
        {
          "output_type": "display_data",
          "data": {
            "image/png": "[encoded data removed]",
            "text/plain": [
              "<Figure size 864x288 with 16 Axes>"
            ]
          },
          "metadata": {
            "tags": []
          }
        }
      ]
    }
  ]
}